{
 "cells": [
  {
   "cell_type": "code",
   "execution_count": 1,
   "metadata": {},
   "outputs": [],
   "source": [
    "import re"
   ]
  },
  {
   "cell_type": "markdown",
   "metadata": {},
   "source": [
    "1.\tВ исходной строке после каждой заданной пользователем буквы вставьте заданную подстроку."
   ]
  },
  {
   "cell_type": "code",
   "execution_count": 2,
   "metadata": {},
   "outputs": [
    {
     "name": "stdout",
     "output_type": "stream",
     "text": [
      "Исходная строка: hello world\n",
      "Буква: o\n",
      "Подстрока: !\n",
      "hello! wo!rld\n"
     ]
    }
   ],
   "source": [
    "s1 = input(\"Исходная строка: \")\n",
    "s2 = input(\"Буква: \")\n",
    "s3 = input(\"Подстрока: \")\n",
    "s1 = s1.replace(s2, s2+s3)\n",
    "print(s1)"
   ]
  },
  {
   "cell_type": "code",
   "execution_count": 8,
   "metadata": {},
   "outputs": [
    {
     "name": "stdout",
     "output_type": "stream",
     "text": [
      "Исходная строка: helow world\n",
      "Буква: o\n",
      "Подстрока: !\n",
      "helo!w wo!rld\n"
     ]
    }
   ],
   "source": [
    "s1 = input(\"Исходная строка: \")\n",
    "s2 = input(\"Буква: \")\n",
    "s3 = input(\"Подстрока: \")\n",
    "s1 = re.sub(s2, s2+s3, s1)\n",
    "print(s1)"
   ]
  },
  {
   "cell_type": "markdown",
   "metadata": {},
   "source": [
    "2.\tПодсчитайте сумму чисел, встречающихся в строке. Символ ‘–’ перед числом считается знаком отрицательного числа. Все остальные символы (кроме цифр и минуса) считаются разделителями между числами."
   ]
  },
  {
   "cell_type": "code",
   "execution_count": 3,
   "metadata": {},
   "outputs": [
    {
     "name": "stdout",
     "output_type": "stream",
     "text": [
      "Исходная строка: -98j98\n",
      "['-98', '98']\n",
      "0\n"
     ]
    }
   ],
   "source": [
    "s = input(\"Исходная строка: \")\n",
    "final = []\n",
    "counter = 0\n",
    "num = \"\"\n",
    "for i in range(len(s)):\n",
    "    if i < len(s)-1:\n",
    "        if ('0' <= s[i] <= '9') or (s[i] == '-' and '0' <= s[i+1] <= '9'):\n",
    "            num += s[i]        \n",
    "            if '0' <= s[i+1] <= '9':\n",
    "                if i == len(s)-2:\n",
    "                    num != \"\"\n",
    "                    num += s[i+1]\n",
    "                    final.append(num)\n",
    "                    break\n",
    "                continue\n",
    "            final.append(num)\n",
    "            num = \"\"\n",
    "        \n",
    "print(final)\n",
    "summ = 0\n",
    "for i in final:\n",
    "    summ += int(i)\n",
    "print(summ)"
   ]
  },
  {
   "cell_type": "code",
   "execution_count": 6,
   "metadata": {},
   "outputs": [
    {
     "name": "stdout",
     "output_type": "stream",
     "text": [
      "Исходная строка: -98 98\n",
      "['-98', '98']\n",
      "0\n"
     ]
    }
   ],
   "source": [
    "txt = input(\"Исходная строка: \")\n",
    "regExp = r\"-?\\d+\"\n",
    "x = re.findall(regExp, txt)\n",
    "print(x)\n",
    "summ = 0\n",
    "for i in x:\n",
    "    summ += int(i)\n",
    "print(summ)"
   ]
  },
  {
   "cell_type": "markdown",
   "metadata": {},
   "source": [
    "3.\tСформируйте новую строку, отличающуюся от исходной тем, что группы идущих подряд одинаковых символов разделены символом ‘*’. Пример ееннне -> ее*ннн*е, ппрол-> пп*р*о*л."
   ]
  },
  {
   "cell_type": "code",
   "execution_count": 23,
   "metadata": {},
   "outputs": [
    {
     "name": "stdout",
     "output_type": "stream",
     "text": [
      "Исходная строка: ппрол\n",
      "пп*р*о*л\n"
     ]
    }
   ],
   "source": [
    "txt = input(\"Исходная строка: \")\n",
    "arr = []\n",
    "n = len(txt)\n",
    "for i in range(n - 1):\n",
    "    arr.append(txt[i])\n",
    "    if txt[i] != txt[i+1]:\n",
    "        arr.append(\"*\")        \n",
    "arr.append(txt[n-1])\n",
    "\n",
    "print(\"\".join(arr))"
   ]
  },
  {
   "cell_type": "code",
   "execution_count": 61,
   "metadata": {},
   "outputs": [
    {
     "name": "stdout",
     "output_type": "stream",
     "text": [
      "Исходная строка: 1122335441\n",
      "11*22*33*5*44*1\n"
     ]
    }
   ],
   "source": [
    "txt = input(\"Исходная строка: \")\n",
    "reg = r\"((.)\\2*)\"\n",
    "arr = re.findall(reg, txt)\n",
    "arr2 = []\n",
    "for i in arr:\n",
    "    arr2.append(i[0])\n",
    "\n",
    "print('*'.join(arr2))\n",
    "\n"
   ]
  },
  {
   "cell_type": "markdown",
   "metadata": {},
   "source": [
    "4.\tУдалите из строки последовательности символов, расположенные между круглыми скобками вместе со скобками (считается, что скобки в строке расставлены без ошибок)."
   ]
  },
  {
   "cell_type": "code",
   "execution_count": 7,
   "metadata": {},
   "outputs": [
    {
     "name": "stdout",
     "output_type": "stream",
     "text": [
      "Исходная строка: 99(io(io)io)99(())\n",
      "9999\n"
     ]
    }
   ],
   "source": [
    "txt = input(\"Исходная строка: \")\n",
    "arr = list(txt)\n",
    "out = []\n",
    "add = 0\n",
    "if arr[0] == \"(\":\n",
    "    add += 1\n",
    "for i in range(len(arr)):\n",
    "    if add == 0 and arr[i] != \"(\":\n",
    "        out.append(arr[i])\n",
    "    if arr[i] == \")\": add -= 1\n",
    "    if arr[i] == \"(\": add += 1\n",
    "print(\"\".join(out))"
   ]
  },
  {
   "cell_type": "code",
   "execution_count": 14,
   "metadata": {},
   "outputs": [
    {
     "name": "stdout",
     "output_type": "stream",
     "text": [
      "Исходная строка: 99(io(io)io)99(())\n",
      "9999\n"
     ]
    }
   ],
   "source": [
    "txt = input(\"Исходная строка: \")\n",
    "\n",
    "for i in range(2,20):\n",
    "    txt = re.sub(r\"\\(.{\" + str(i) + r\"}\\)\", \"\", txt)    \n",
    "print(txt)\n",
    "#99(io(io)io)99(())"
   ]
  },
  {
   "cell_type": "markdown",
   "metadata": {},
   "source": [
    "5.\tПреобразовать сегодняшнюю дату в системном представлении (2018-09-17) в привычный для нас формат день/месяц/год (17/09/2018). Известно, что на год выделено всегда 4 цифры, а на день и месяц – всегда 2 цифры. "
   ]
  },
  {
   "cell_type": "code",
   "execution_count": 16,
   "metadata": {},
   "outputs": [
    {
     "name": "stdout",
     "output_type": "stream",
     "text": [
      "16/09/2020\n"
     ]
    }
   ],
   "source": [
    "from datetime import date\n",
    "d1 = date.today()\n",
    "ds = str(d1)\n",
    "regExp = r\"\\d+\"\n",
    "x = re.findall(regExp, ds)\n",
    "out = x[2] + '/' + x[1] + '/' + x[1]\n",
    "print(out)"
   ]
  },
  {
   "cell_type": "code",
   "execution_count": 93,
   "metadata": {},
   "outputs": [
    {
     "name": "stdout",
     "output_type": "stream",
     "text": [
      "16/09/2020\n"
     ]
    }
   ],
   "source": [
    "from datetime import date\n",
    "d1 = date.today()\n",
    "ds = str(d1)\n",
    "arr = ds.split(\"-\")\n",
    "out = x[0] + '/' + x[1] + '/' + x[2]\n",
    "print(out)"
   ]
  },
  {
   "cell_type": "markdown",
   "metadata": {},
   "source": [
    "6.\tВыведите слова сообщения по убыванию их длин. Для повторяющихся слов в скобках указывать количество повторов."
   ]
  },
  {
   "cell_type": "code",
   "execution_count": 112,
   "metadata": {},
   "outputs": [
    {
     "name": "stdout",
     "output_type": "stream",
     "text": [
      "Исходная строка: roses are red violets are blue\n",
      "violets\n",
      "roses\n",
      "blue\n",
      "are (2)\n",
      "red\n"
     ]
    }
   ],
   "source": [
    "txt = input(\"Исходная строка: \")\n",
    "arr = txt.split()\n",
    "stop = 0\n",
    "while stop == 0:\n",
    "    stop = 1\n",
    "    for i in range(len(arr)-1):\n",
    "        if len(arr[i]) < len(arr[i+1]):\n",
    "            stop = 0\n",
    "            arr[i], arr[i+1] = arr[i+1], arr[i]\n",
    "#print(arr)\n",
    "used = []\n",
    "for i in range(len(arr)):\n",
    "    count = 1\n",
    "    for j in range(len(arr)):\n",
    "        if arr[i] == arr[j] and i != j: \n",
    "            count += 1            \n",
    "    if not (arr[i] in used):\n",
    "        if count > 1:\n",
    "            print(arr[i] + f\" ({count})\")  \n",
    "            used.append(arr[i])\n",
    "        else:\n",
    "            print(arr[i])"
   ]
  },
  {
   "cell_type": "code",
   "execution_count": 24,
   "metadata": {},
   "outputs": [
    {
     "name": "stdout",
     "output_type": "stream",
     "text": [
      "Исходная строка: roses are red violets are blue\n",
      "violets\n",
      "roses\n",
      "blue\n",
      "are (2)\n",
      "red\n"
     ]
    }
   ],
   "source": [
    "txt = input(\"Исходная строка: \")\n",
    "arr = []\n",
    "for i in range(20,1,-1):\n",
    "    arr += re.findall((r\"\\b\\w{\" + str(i) + r\"}\\b\"), txt)\n",
    "#print(arr)\n",
    "used = []\n",
    "for i in range(len(arr)):\n",
    "    count = 1\n",
    "    for j in range(len(arr)):\n",
    "        if arr[i] == arr[j] and i != j: \n",
    "            count += 1            \n",
    "    if not (arr[i] in used):\n",
    "        if count > 1:\n",
    "            print(arr[i] + f\" ({count})\")  \n",
    "            used.append(arr[i])\n",
    "        else:\n",
    "            print(arr[i])"
   ]
  },
  {
   "cell_type": "markdown",
   "metadata": {},
   "source": [
    "7.\tИсправьте строку в соответствии с правилом расстановки знаков препинания (точка, вопросительный знак, восклицательный знак, запятая, тире, точка с запятой, двоеточие, многоточие, круглые, квадратные и фигурные скобки): перед каждым знаком препинания (кроме тире и открывающихся скобок) пробел отсутствует, а после любого знака препинания (кроме открывающихся скобок) стоит ровно один пробел; в многоточии между точками пробелы отсутствуют."
   ]
  },
  {
   "cell_type": "code",
   "execution_count": 37,
   "metadata": {},
   "outputs": [
    {
     "name": "stdout",
     "output_type": "stream",
     "text": [
      "Omission of letters from a word :I've seen that movie several times  .She wasn't the only one who kne( w )the answ !er  .   . . \n",
      "Omission of letters from a word: I've seen that movie several times. She wasn't the only one who kne (w) the answ! er...\n"
     ]
    }
   ],
   "source": [
    "import string \n",
    "#Omission of letters from a word : I've seen that movie several times  .She wasn't the only one who knew the answer  .\n",
    "#txt = input(\"Исходная строка: \")\n",
    "txt = \"Omission of letters from a word :I've seen that movie several times  .She wasn't the only one who kne( w )the answ !er  .   . . \"\n",
    "arr = list(txt)\n",
    "print(txt)\n",
    "\n",
    "arr = txt.split(\":\")\n",
    "for i in range(len(arr)):\n",
    "    arr[i] = arr[i].strip()\n",
    "    if i != len(arr)-1:\n",
    "        arr[i] += \": \"\n",
    "\n",
    "txt = \"\".join(arr)\n",
    "arr = txt.split(\"?\")\n",
    "for i in range(len(arr)):\n",
    "    arr[i] = arr[i].strip()\n",
    "    if i != len(arr)-1:\n",
    "        arr[i] += \"? \"\n",
    "    \n",
    "txt = \"\".join(arr)    \n",
    "arr = txt.split(\"(\")\n",
    "for i in range(len(arr)):\n",
    "    arr[i] = arr[i].strip()\n",
    "    if i != len(arr)-1:\n",
    "        arr[i] += \" (\"\n",
    "    \n",
    "txt = \"\".join(arr)\n",
    "arr = txt.split(\")\")\n",
    "for i in range(len(arr)):\n",
    "    arr[i] = arr[i].strip()\n",
    "    if i != len(arr)-1:\n",
    "        arr[i] += \") \"\n",
    "        \n",
    "        txt = \"\".join(arr)    \n",
    "arr = txt.split(\"[\")\n",
    "for i in range(len(arr)):\n",
    "    arr[i] = arr[i].strip()\n",
    "    if i != len(arr)-1:\n",
    "        arr[i] += \" [\"\n",
    "    \n",
    "txt = \"\".join(arr)\n",
    "arr = txt.split(\"]\")\n",
    "for i in range(len(arr)):\n",
    "    arr[i] = arr[i].strip()\n",
    "    if i != len(arr)-1:\n",
    "        arr[i] += \"] \"\n",
    "        \n",
    "        txt = \"\".join(arr)    \n",
    "arr = txt.split(\"{\")\n",
    "for i in range(len(arr)):\n",
    "    arr[i] = arr[i].strip()\n",
    "    if i != len(arr)-1:\n",
    "        arr[i] += \" {\"\n",
    "    \n",
    "txt = \"\".join(arr)\n",
    "arr = txt.split(\"}\")\n",
    "for i in range(len(arr)):\n",
    "    arr[i] = arr[i].strip()\n",
    "    if i != len(arr)-1:\n",
    "        arr[i] += \"} \"\n",
    "\n",
    "txt = \"\".join(arr)\n",
    "arr = txt.split(\".\")\n",
    "for i in range(len(arr)):\n",
    "    arr[i] = arr[i].strip()\n",
    "    if i != len(arr)-1:\n",
    "        arr[i] += \". \"\n",
    "    \n",
    "txt = \"\".join(arr)\n",
    "arr = txt.split(\",\")\n",
    "for i in range(len(arr)):\n",
    "    arr[i] = arr[i].strip()\n",
    "    if i != len(arr)-1:\n",
    "        arr[i] += \", \"    \n",
    "    \n",
    "txt = \"\".join(arr)\n",
    "arr = txt.split(\"!\")\n",
    "for i in range(len(arr)):\n",
    "    arr[i] = arr[i].strip()\n",
    "    if i != len(arr)-1:\n",
    "        arr[i] += \"! \"       \n",
    "    \n",
    "txt = \"\".join(arr)\n",
    "arr = txt.split(\". . .\")\n",
    "for i in range(len(arr)):\n",
    "    arr[i] = arr[i].strip()\n",
    "    if i != len(arr)-1:\n",
    "        arr[i] += \"... \" \n",
    "        \n",
    "txt = \"\".join(arr)\n",
    "arr = txt.split(\"-\")\n",
    "for i in range(len(arr)):\n",
    "    arr[i] = arr[i].strip()\n",
    "    if i != len(arr)-1:\n",
    "        arr[i] += \" - \"   \n",
    "    \n",
    "txt = \"\".join(arr)\n",
    "#print(arr)\n",
    "print(\"\".join(arr))\n",
    "\n",
    "\n",
    "\n"
   ]
  },
  {
   "cell_type": "code",
   "execution_count": 38,
   "metadata": {},
   "outputs": [
    {
     "name": "stdout",
     "output_type": "stream",
     "text": [
      "Omission of letters from a word :I've seen that movie several times  .She wasn't the only one who kne( w )the answ !er  .   . . \n",
      "Omission of letters from a word: I've seen that movie several times. She wasn't the only one who kne (w) the answ! er...  \n"
     ]
    }
   ],
   "source": [
    "import re\n",
    "#Omission of letters from a word : I've seen that movie several times  .She wasn't the only one who knew the answer  .\n",
    "#txt = input(\"Исходная строка: \")\n",
    "txt = \"Omission of letters from a word :I've seen that movie several times  .She wasn't the only one who kne( w )the answ !er  .   . . \"\n",
    "arr = list(txt)\n",
    "print(txt)\n",
    "\n",
    "txt = re.sub(r\"\\s*[.]\\s*\", \". \", txt)\n",
    "txt = re.sub(r\"[.]{1}[\\s]{1}[.]{1}[\\s]{1}[.]{1}\", \"... \", txt)\n",
    "txt = re.sub(r\"\\s*[!]\\s*\", \"! \", txt)\n",
    "txt = re.sub(r\"\\s*[,]\\s*\", \", \", txt)\n",
    "txt = re.sub(r\"\\s*[\\(]\\s*\", \" (\", txt)\n",
    "txt = re.sub(r\"\\s*[\\)]\\s*\", \") \", txt)\n",
    "txt = re.sub(r\"\\s*[-]\\s*\", \" - \", txt)\n",
    "txt = re.sub(r\"\\s*[:]\\s*\", \": \", txt)\n",
    "txt = re.sub(r\"\\s*[;]\\s*\", \"; \", txt)\n",
    "txt = re.sub(r\"\\s*[\\{]\\s*\", \" {\", txt)\n",
    "txt = re.sub(r\"\\s*[\\}]\\s*\", \"} \", txt)\n",
    "txt = re.sub(r\"\\s*[\\[]\\s*\", \" [\", txt)\n",
    "txt = re.sub(r\"\\s*[\\]]\\s*\", \"] \", txt)\n",
    "\n",
    "print(txt)"
   ]
  },
  {
   "cell_type": "code",
   "execution_count": null,
   "metadata": {},
   "outputs": [],
   "source": []
  }
 ],
 "metadata": {
  "kernelspec": {
   "display_name": "Python 3",
   "language": "python",
   "name": "python3"
  },
  "language_info": {
   "codemirror_mode": {
    "name": "ipython",
    "version": 3
   },
   "file_extension": ".py",
   "mimetype": "text/x-python",
   "name": "python",
   "nbconvert_exporter": "python",
   "pygments_lexer": "ipython3",
   "version": "3.6.7"
  }
 },
 "nbformat": 4,
 "nbformat_minor": 2
}
