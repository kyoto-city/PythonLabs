{
 "cells": [
  {
   "cell_type": "code",
   "execution_count": 1,
   "metadata": {},
   "outputs": [],
   "source": [
    "import re\n",
    "import random"
   ]
  },
  {
   "cell_type": "markdown",
   "metadata": {},
   "source": [
    "1.\tДан список подобных кортежей:\n",
    "hotel_rooms = [(‘Ann’, 400), (‘Elizabeth’, 103), (‘Mr. McMullen’, 202), (‘Mrs. Smith\", 200)]\n",
    "Вывести на экран последовательность сообщений вида: \n",
    "Hello, Ann! Your room is 400.\n",
    "\tДля тех, кто указан как мистер Mr. / миссис Mrs. / мисс Miss| Ms. сообщение должно выглядеть так:\n",
    "Good morning, Mr. McMullen! Your room is 202.\n"
   ]
  },
  {
   "cell_type": "code",
   "execution_count": 3,
   "metadata": {},
   "outputs": [
    {
     "name": "stdout",
     "output_type": "stream",
     "text": [
      "Hello, Ann! Your room is 400.\n",
      "Good Morning, Miss Elizabeth! Your room is 103.\n",
      "Good Morning, Mr. McMullen! Your room is 202.\n",
      "Good Morning, Mrs. Smith! Your room is 200.\n"
     ]
    }
   ],
   "source": [
    "hotel_rooms = [('Ann', 400), ('Miss Elizabeth', 103), \n",
    "               ('Mr. McMullen', 202), ('Mrs. Smith', 200)]\n",
    "regx = r\"(Miss|Mr|Mrs|Ms)(\\.|\\s)\"\n",
    "for person in hotel_rooms:\n",
    "    string = \"\"\n",
    "    if (re.search(regx, person[0])):\n",
    "        string += \"Good Morning, \"\n",
    "    else:\n",
    "        string += \"Hello, \"\n",
    "    string += person[0] + \"! \"\n",
    "    string += \"Your room is \" + str(person[1]) + \".\"\n",
    "    print(string)       \n",
    "    "
   ]
  },
  {
   "cell_type": "markdown",
   "metadata": {},
   "source": [
    "2.\tВ списке чисел найти самую длинную последовательность, которая упорядочена по возрастанию. Если таких последовательностей несколько (с одинаковой максимальной длиной), то найти их все. Вывести на экран сам список, длину самой длинной упорядоченной по возрастанию последовательности, саму последовательность (или несколько)."
   ]
  },
  {
   "cell_type": "code",
   "execution_count": 7,
   "metadata": {},
   "outputs": [
    {
     "name": "stdout",
     "output_type": "stream",
     "text": [
      "4 5 6 1 2 3\n",
      "4 5 6 1 2 3\n",
      "Found 456 with length of 3\n",
      "Found 123 with length of 3\n"
     ]
    }
   ],
   "source": [
    "arr = []\n",
    "out = [[]]\n",
    "chain = []\n",
    "maxx = 0\n",
    "for i in range(20):\n",
    "    arr.append(random.randrange(10))\n",
    "    \n",
    "arr = list(map(int, input().split()))\n",
    "print(\" \".join(map(str,arr)))\n",
    "i = 0\n",
    "while bool(True):    \n",
    "    if i >= len(arr)-1: break \n",
    "    if arr[i + 1] < arr[i]:\n",
    "        #print(chain)\n",
    "        if not chain in out:\n",
    "            out.append(chain)\n",
    "        if maxx < len(chain):\n",
    "            maxx = len(chain)\n",
    "        #chain.clear()\n",
    "        i += 1\n",
    "        continue\n",
    "    chain = []\n",
    "    chain.append(arr[i])\n",
    "    while arr[i + 1] >= arr[i]:\n",
    "        chain.append(arr[i+1])\n",
    "        i += 1\n",
    "        if i >= len(arr)-1:\n",
    "            if not chain in out:\n",
    "                out.append(chain)\n",
    "            if maxx < len(chain):\n",
    "                maxx = len(chain)\n",
    "            break \n",
    "\n",
    "#print(out)\n",
    "for i in out:\n",
    "    if len(i) == maxx:\n",
    "        print(\"Found \" + ''.join(map(str,i)) + \" with length of \" + str(len(i)))"
   ]
  },
  {
   "cell_type": "markdown",
   "metadata": {},
   "source": [
    "3.\tВ списке чисел проверить, все ли элементы являются уникальными, т. е. каждое число встречается только один раз. Решить минимум двумя способами."
   ]
  },
  {
   "cell_type": "markdown",
   "metadata": {},
   "source": [
    "Способ 1"
   ]
  },
  {
   "cell_type": "code",
   "execution_count": 78,
   "metadata": {},
   "outputs": [
    {
     "name": "stdout",
     "output_type": "stream",
     "text": [
      "8 9 7 5 2\n",
      "Unique\n"
     ]
    }
   ],
   "source": [
    "arr = []\n",
    "for i in range(5):\n",
    "    arr.append(random.randrange(10))\n",
    "print(\" \".join(map(str, arr)))\n",
    "    \n",
    "same = 0\n",
    "for i in range(len(arr)):\n",
    "    for j in range(len(arr)):\n",
    "        if i != j: \n",
    "            if arr[i] == arr[j]:\n",
    "                same = 1\n",
    "\n",
    "if (same == 0): \n",
    "    print(\"Unique\")\n",
    "else:\n",
    "    print(\"Not unique\")"
   ]
  },
  {
   "cell_type": "markdown",
   "metadata": {},
   "source": [
    "Способ 2"
   ]
  },
  {
   "cell_type": "code",
   "execution_count": 72,
   "metadata": {},
   "outputs": [
    {
     "name": "stdout",
     "output_type": "stream",
     "text": [
      "9 8 5 6 8\n",
      "Not unique\n"
     ]
    }
   ],
   "source": [
    "arr = []\n",
    "for i in range(5):\n",
    "    arr.append(random.randrange(10))\n",
    "print(\" \".join(map(str, arr)))\n",
    "\n",
    "sett = set(arr)\n",
    "if (len(sett) == len(arr)): \n",
    "    print(\"Unique\")\n",
    "else:\n",
    "    print(\"Not unique\")"
   ]
  },
  {
   "cell_type": "markdown",
   "metadata": {},
   "source": [
    "4.\tУдалить из списка, состоящего из n чисел в диапазоне от 0 до A, все элементы, которые больше A/6 и меньше 5 * A/ 6. При этом удаляемые числа сохранить в другом списке."
   ]
  },
  {
   "cell_type": "code",
   "execution_count": 86,
   "metadata": {},
   "outputs": [
    {
     "name": "stdout",
     "output_type": "stream",
     "text": [
      "n = 10\n",
      "A = 6\n",
      "4 4 3 2 4 3 5 3 1 0\n",
      "5 1 0\n",
      "4 4 3 2 4 3 3\n"
     ]
    }
   ],
   "source": [
    "n = int(input(\"n = \"))\n",
    "A = int(input(\"A = \"))\n",
    "arr = []\n",
    "arr2 = []\n",
    "for i in range(n):\n",
    "    arr.append(random.randrange(A))\n",
    "print(\" \".join(map(str, arr)))\n",
    "\n",
    "i = 0\n",
    "while bool(True):\n",
    "    if i >= len(arr): break\n",
    "    if A/6 < arr[i] < 5*A/6:\n",
    "        arr2.append(arr[i])\n",
    "        del arr[i]\n",
    "        i -= 1\n",
    "    i += 1\n",
    "\n",
    "print(\" \".join(map(str, arr)))\n",
    "print(\" \".join(map(str, arr2)))"
   ]
  },
  {
   "cell_type": "markdown",
   "metadata": {},
   "source": [
    "5.\tНапишите программу, на вход которой подаётся список чисел одной строкой. Программа должна для каждого элемента этого списка вывести сумму двух его соседей. Для элементов списка, являющихся крайними, одним из соседей считается элемент, находящий на противоположном конце этого списка. Например, если на вход подаётся список 1 3 5 6 10, то на выход ожидается список 13 6 9 15 7. Если на вход пришло только одно число, надо вывести его же. Вывод должен содержать одну строку с числами нового списка, разделёнными пробелом."
   ]
  },
  {
   "cell_type": "code",
   "execution_count": 29,
   "metadata": {},
   "outputs": [
    {
     "name": "stdout",
     "output_type": "stream",
     "text": [
      "5\n",
      "5\n",
      "\n"
     ]
    }
   ],
   "source": [
    "arr = list(map(int, input().split()))\n",
    "#print(' '.join(map(str, arr)))\n",
    "\n",
    "out = []\n",
    "if len(arr) > 1:\n",
    "    for i in range(len(arr)):\n",
    "        if i == 0:\n",
    "            out.append(arr[1] + arr[len(arr)-1])\n",
    "        elif i == len(arr)-1:\n",
    "            out.append(arr[0] + arr[len(arr)-2])\n",
    "        else:\n",
    "            out.append(arr[i-1] + arr[i+1])\n",
    "else:\n",
    "    print(\" \".join(map(str, arr)))\n",
    "        \n",
    "print(\" \".join(map(str, out)))"
   ]
  },
  {
   "cell_type": "markdown",
   "metadata": {},
   "source": [
    "6.\tВывести по алфавиту список слов, входящих в исходный текст. Знаки препинания исключаются, каждое слово выводится по одному разу."
   ]
  },
  {
   "cell_type": "code",
   "execution_count": 13,
   "metadata": {},
   "outputs": [
    {
     "name": "stdout",
     "output_type": "stream",
     "text": [
      "Text: Вывести по алфавиту список слов, входящих в исходный текст. Знаки препинания исключаются, каждое слово выводится по одному разу. Вывести по алфавиту список слов, входящих в исходный текст. Знаки препинания исключаются, каждое слово выводится по одному разу.\n",
      "алфавиту в вывести выводится входящих знаки исходный исключаются каждое одному по препинания разу список слово слов текст\n"
     ]
    }
   ],
   "source": [
    "text = input(\"Text: \")\n",
    "text = text.replace(\",\",\"\").replace(\".\",\"\").replace(\"!\",\"\").replace(\":\",\"\").replace(\";\",\"\").replace('\"',\"\")\n",
    "arr = list(set(text.lower().split()))\n",
    "\n",
    "stop = bool(False)\n",
    "while not stop:\n",
    "    stop = bool(True)\n",
    "    for i in range(len(arr)-1):\n",
    "        if list(arr[i])[0] > list(arr[i+1])[0]:\n",
    "            arr[i], arr[i+1] = arr[i+1], arr[i]\n",
    "            stop = bool(False)\n",
    "\n",
    "print(\" \".join(arr))"
   ]
  },
  {
   "cell_type": "markdown",
   "metadata": {},
   "source": [
    "7.\tОтсортируйте элементы списка, расположенные между первым положительным и последним отрицательным элементами массива."
   ]
  },
  {
   "cell_type": "code",
   "execution_count": 15,
   "metadata": {},
   "outputs": [
    {
     "name": "stdout",
     "output_type": "stream",
     "text": [
      "-6 -14 12 2 -12 -6 -20 1 9 6\n",
      "-6 -6 8 9 7 5 -6\n",
      "-6 -6 8 5 7 9 -6\n"
     ]
    }
   ],
   "source": [
    "arr = []\n",
    "for i in range(10):\n",
    "    arr.append(random.randrange(-20,20))\n",
    "print(\" \".join(map(str, arr)))\n",
    "\n",
    "arr = list(map(int, input().split()))\n",
    "pi = 0\n",
    "ni = len(arr) - 1\n",
    "while arr[pi] < 0:\n",
    "    pi += 1\n",
    "while arr[ni] >= 0:\n",
    "    ni -= 1\n",
    "\n",
    "pi += 1\n",
    "ni -= 1\n",
    "\n",
    "stop = bool(False)\n",
    "while not stop:\n",
    "    stop = bool(True)\n",
    "    for i in range(pi, ni):\n",
    "        if arr[i] > arr[i+1]:\n",
    "            arr[i], arr[i+1] = arr[i+1], arr[i]\n",
    "            stop = bool(False)\n",
    "\n",
    "print(\" \".join(map(str, arr)))"
   ]
  },
  {
   "cell_type": "markdown",
   "metadata": {},
   "source": [
    "8.\tВ исходном списке из n элементов встречаются по одному разу все целые числа от 0 до n, кроме одного. Найдите пропущенное число и выведите его на экран. Решить минимум двумя способами."
   ]
  },
  {
   "cell_type": "markdown",
   "metadata": {},
   "source": [
    "Способ 1"
   ]
  },
  {
   "cell_type": "code",
   "execution_count": 23,
   "metadata": {},
   "outputs": [
    {
     "name": "stdout",
     "output_type": "stream",
     "text": [
      "2 0 1 4\n",
      "3\n"
     ]
    }
   ],
   "source": [
    "arr = list(map(int, input().split()))\n",
    "\n",
    "arr2 = []\n",
    "for i in range(len(arr)+1):\n",
    "    arr2.append(i)\n",
    "\n",
    "out = set(arr2) - set(arr) \n",
    "print(\" \".join(map(str, out)))"
   ]
  },
  {
   "cell_type": "markdown",
   "metadata": {},
   "source": [
    "Способ 2"
   ]
  },
  {
   "cell_type": "code",
   "execution_count": 42,
   "metadata": {},
   "outputs": [
    {
     "name": "stdout",
     "output_type": "stream",
     "text": [
      "2 1 0 4\n",
      "3\n"
     ]
    }
   ],
   "source": [
    "arr = list(map(int, input().split()))\n",
    "\n",
    "for i in range(0, len(arr)+1):\n",
    "    if not (i in arr):\n",
    "        print(i)"
   ]
  },
  {
   "cell_type": "markdown",
   "metadata": {},
   "source": [
    "9.\tДаны два неубывающих списка. Найдите их «пересечение», т. е. список, содержащий общие элементы исходных списков, причем кратность каждого элемента в итоговом списке равняется минимуму из его кратностей в исходных списках."
   ]
  },
  {
   "cell_type": "code",
   "execution_count": 54,
   "metadata": {},
   "outputs": [
    {
     "name": "stdout",
     "output_type": "stream",
     "text": [
      "[2, 6, 9]\n",
      "2 2 6 9 9\n"
     ]
    }
   ],
   "source": [
    "arr1 = [2, 2, 2, 3, 4, 6, 9, 9]\n",
    "arr2 = [2, 2, 5, 6, 9, 9, 10]\n",
    "\n",
    "#arr1 = list(map(int, input().split()))\n",
    "#arr2 = list(map(int, input().split()))\n",
    "\n",
    "s1 = set(arr1)\n",
    "s2 = set(arr2)\n",
    "\n",
    "arr3 = sorted(list(s1 & s2))\n",
    "print(arr3)\n",
    "\n",
    "out = []\n",
    "for i in arr3:\n",
    "    if arr1.count(i) < arr2.count(i):\n",
    "        for j in range(arr1.count(i)):\n",
    "            out.append(i)\n",
    "    else:\n",
    "        for j in range(arr2.count(i)):\n",
    "            out.append(i)\n",
    "            \n",
    "print(\" \".join(map(str, out)))"
   ]
  },
  {
   "cell_type": "markdown",
   "metadata": {},
   "source": [
    "10.\tДан неубывающий список положительных целых чисел. Определите, можно ли составить заданное число как сумму нескольких подряд идущих элементов этого списка."
   ]
  },
  {
   "cell_type": "code",
   "execution_count": 28,
   "metadata": {},
   "outputs": [
    {
     "name": "stdout",
     "output_type": "stream",
     "text": [
      "Number: 2\n",
      "Yes\n"
     ]
    }
   ],
   "source": [
    "arr = [2]\n",
    "num = int(input(\"Number: \"))\n",
    "#arr = list(map(int, input().split()))\n",
    "\n",
    "k = 0\n",
    "a = 0\n",
    "\n",
    "if len(arr) > 1:\n",
    "    while k != len(arr)-1:\n",
    "        summ = 0\n",
    "        for i in range(k, len(arr)):\n",
    "            summ += arr[i]\n",
    "            if summ == num:\n",
    "                a = 1\n",
    "        k += 1\n",
    "\n",
    "    if a == 1:\n",
    "        print(\"Yes\")\n",
    "    else:\n",
    "        print(\"No\")\n",
    "else:\n",
    "    if num == arr[0]:\n",
    "        print(\"Yes\")\n",
    "    else: \n",
    "        print(\"No\")\n",
    "        "
   ]
  },
  {
   "cell_type": "code",
   "execution_count": null,
   "metadata": {},
   "outputs": [],
   "source": []
  }
 ],
 "metadata": {
  "kernelspec": {
   "display_name": "Python 3",
   "language": "python",
   "name": "python3"
  },
  "language_info": {
   "codemirror_mode": {
    "name": "ipython",
    "version": 3
   },
   "file_extension": ".py",
   "mimetype": "text/x-python",
   "name": "python",
   "nbconvert_exporter": "python",
   "pygments_lexer": "ipython3",
   "version": "3.6.7"
  }
 },
 "nbformat": 4,
 "nbformat_minor": 2
}
