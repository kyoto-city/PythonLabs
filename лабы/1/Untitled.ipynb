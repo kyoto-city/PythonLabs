{
 "cells": [
  {
   "cell_type": "markdown",
   "metadata": {},
   "source": [
    "1.\tПользователь вводит числа А и В. Необходимо поменять значения А и В местами и вывести их на экран (минимум 5 способов). "
   ]
  },
  {
   "cell_type": "code",
   "execution_count": 4,
   "metadata": {},
   "outputs": [
    {
     "name": "stdout",
     "output_type": "stream",
     "text": [
      "Введите А: 5\n",
      "Введите B: 6\n",
      "A = 6 \n",
      "B = 5\n"
     ]
    }
   ],
   "source": [
    "a = input(\"Введите А: \")\n",
    "b = input(\"Введите B: \")\n",
    "tmp = a\n",
    "a = b\n",
    "b = tmp\n",
    "print(\"A =\", a, \"\\nB =\", b)"
   ]
  },
  {
   "cell_type": "code",
   "execution_count": 6,
   "metadata": {},
   "outputs": [
    {
     "name": "stdout",
     "output_type": "stream",
     "text": [
      "Введите А: 5\n",
      "Введите B: 6\n",
      "A = 6 \n",
      "B = 5\n"
     ]
    }
   ],
   "source": [
    "a = input(\"Введите А: \")\n",
    "b = input(\"Введите B: \")\n",
    "a, b = b, a\n",
    "print(\"A =\", a, \"\\nB =\", b)"
   ]
  },
  {
   "cell_type": "code",
   "execution_count": 10,
   "metadata": {},
   "outputs": [
    {
     "name": "stdout",
     "output_type": "stream",
     "text": [
      "Введите А: 5\n",
      "Введите B: 6\n",
      "A = 6 \n",
      "B = 5\n"
     ]
    }
   ],
   "source": [
    "a = int(input(\"Введите А: \"))\n",
    "b = int(input(\"Введите B: \"))\n",
    "a = a + b\n",
    "b = a - b\n",
    "a = a - b\n",
    "print(\"A =\", a, \"\\nB =\", b)"
   ]
  },
  {
   "cell_type": "code",
   "execution_count": 1,
   "metadata": {},
   "outputs": [
    {
     "name": "stdout",
     "output_type": "stream",
     "text": [
      "Введите А: 5\n",
      "Введите B: 6\n",
      "A = 6 \n",
      "B = 5\n"
     ]
    }
   ],
   "source": [
    "a = input(\"Введите А: \")\n",
    "b = input(\"Введите B: \")\n",
    "s = a\n",
    "s += b\n",
    "b = s[0]\n",
    "a = s[1]\n",
    "print(\"A =\", a, \"\\nB =\", b)"
   ]
  },
  {
   "cell_type": "code",
   "execution_count": 13,
   "metadata": {},
   "outputs": [
    {
     "name": "stdout",
     "output_type": "stream",
     "text": [
      "Введите А: 5\n",
      "Введите B: 6\n",
      "A = 6 \n",
      "B = 5\n"
     ]
    }
   ],
   "source": [
    "a = int(input(\"Введите А: \"))\n",
    "b = int(input(\"Введите B: \"))\n",
    "a = a ^ b\n",
    "b = a ^ b\n",
    "a = a ^ b\n",
    "print(\"A =\", a, \"\\nB =\", b)"
   ]
  },
  {
   "cell_type": "markdown",
   "metadata": {},
   "source": [
    "2.\tПо координатам, введенным пользователем, определить к какой четверти координатной плоскости относится точка. Если точка лежит на оси абсцисс или ординат или является началом координат, сообщить об этом."
   ]
  },
  {
   "cell_type": "code",
   "execution_count": 5,
   "metadata": {},
   "outputs": [
    {
     "name": "stdout",
     "output_type": "stream",
     "text": [
      "Введите координату X: -5\n",
      "Введите координату Y: 3\n",
      "Точка лежит во второй четверти\n"
     ]
    }
   ],
   "source": [
    "x = int(input(\"Введите координату X: \"))\n",
    "y = int(input(\"Введите координату Y: \"))\n",
    "if x == 0:\n",
    "    if y == 0:\n",
    "        print(\"Точка является началом координат\")\n",
    "    else:\n",
    "        print(\"Точка лежит на оси ординат\")\n",
    "elif y == 0:\n",
    "    print(\"Точка лежит на оси абсцисс\")\n",
    "elif x > 0:\n",
    "    if (y > 0):\n",
    "        print(\"Точка лежит в первой четверти\")\n",
    "    else:\n",
    "        print(\"Точка лежит в четвертой четверти\")\n",
    "else:\n",
    "    if (y > 0):\n",
    "        print(\"Точка лежит во второй четверти\")\n",
    "    else:\n",
    "        print(\"Точка лежит в третьей четверти\")\n"
   ]
  },
  {
   "cell_type": "markdown",
   "metadata": {},
   "source": [
    "\tНайти значение функции y=f(x):"
   ]
  },
  {
   "cell_type": "code",
   "execution_count": 5,
   "metadata": {},
   "outputs": [
    {
     "name": "stdout",
     "output_type": "stream",
     "text": [
      "Введите Х: 0\n",
      "y = 2.718281828459045\n"
     ]
    }
   ],
   "source": [
    "from math import sqrt \n",
    "from math import exp \n",
    "\n",
    "x = float(input(\"Введите Х: \"))\n",
    "if (x > 0):\n",
    "    y = sqrt(4*x)\n",
    "elif (x == 0):\n",
    "    y = exp(1)\n",
    "else:\n",
    "    y = abs(x)\n",
    "    \n",
    "print(\"y = \" + str(y))"
   ]
  },
  {
   "cell_type": "markdown",
   "metadata": {},
   "source": [
    "4.\tПользователь вводит трехзначное число. Необходимо определить сумму цифр этого трехзначного числа."
   ]
  },
  {
   "cell_type": "code",
   "execution_count": 5,
   "metadata": {},
   "outputs": [
    {
     "name": "stdout",
     "output_type": "stream",
     "text": [
      "Введите число: 123\n",
      "Сумма = 6\n"
     ]
    }
   ],
   "source": [
    "x = input(\"Введите число: \")\n",
    "nums = list(str(x))\n",
    "summa = 0\n",
    "for i in nums:\n",
    "    summa += int(i)\n",
    "print(\"Сумма = \" + str(summa))"
   ]
  },
  {
   "cell_type": "code",
   "execution_count": 5,
   "metadata": {},
   "outputs": [
    {
     "name": "stdout",
     "output_type": "stream",
     "text": [
      "Введите число: 221\n",
      "Сумма = 5\n"
     ]
    }
   ],
   "source": [
    "x = int(input(\"Введите число: \"))\n",
    "summa = x // 100 + ( x % 100 ) // 10 + x % 10 \n",
    "print(\"Сумма = \" + str(summa))"
   ]
  },
  {
   "cell_type": "markdown",
   "metadata": {},
   "source": [
    "\tНайти корни уравнения a∙x^2+b∙x+c=0. Параметры уравнения (a, b, c) вводятся пользователем."
   ]
  },
  {
   "cell_type": "code",
   "execution_count": 7,
   "metadata": {},
   "outputs": [
    {
     "name": "stdout",
     "output_type": "stream",
     "text": [
      "Введите a: 0\n",
      "Введите b: 0\n",
      "Введите c: 9\n",
      "Нет решений\n"
     ]
    }
   ],
   "source": [
    "from math import sqrt\n",
    "a = float(input(\"Введите a: \"))\n",
    "b = float(input(\"Введите b: \"))\n",
    "c = float(input(\"Введите c: \"))\n",
    "disk = b*b-4*a*c\n",
    "if (a == 0):\n",
    "    if (b != 0):\n",
    "        x = -c/b\n",
    "        print(\"X = \" + str(x))\n",
    "    else:\n",
    "        if c == 0:\n",
    "            print(\"Бесконечное число решений\")\n",
    "        else:\n",
    "            print(\"Нет решений\")\n",
    "elif disk<0:\n",
    "    print(\"Нет решений\")\n",
    "elif disk == 0:\n",
    "    x = -b/(2*a)\n",
    "    print(\"X = \" + x)\n",
    "else:\n",
    "    x_1 = (-b+sqrt(disk))/(2*a)\n",
    "    x_2 = (-b-sqrt(disk))/(2*a)\n",
    "    print(\"X1 = \" + str(x_1) + \"\\nX2 = \" + str(x_2))\n"
   ]
  },
  {
   "cell_type": "markdown",
   "metadata": {},
   "source": [
    "6.\tВыведите первые A чисел Фиббоначи."
   ]
  },
  {
   "cell_type": "code",
   "execution_count": 5,
   "metadata": {},
   "outputs": [
    {
     "name": "stdout",
     "output_type": "stream",
     "text": [
      "Введите А: 10\n",
      "34\n",
      "21\n",
      "13\n",
      "8\n",
      "5\n",
      "3\n",
      "2\n",
      "1\n",
      "1\n",
      "0\n"
     ]
    }
   ],
   "source": [
    "def Fib(n):    \n",
    "    if n==1:\n",
    "        return 0\n",
    "    elif n==2:\n",
    "        return 1\n",
    "    else:\n",
    "        return Fib(n-1)+Fib(n-2)\n",
    "        \n",
    "a = int(input(\"Введите А: \"))\n",
    "while a>0:\n",
    "    print(Fib(a))\n",
    "    a -= 1\n",
    "    "
   ]
  },
  {
   "cell_type": "markdown",
   "metadata": {},
   "source": [
    "7.\tВывести на экран по одному разу все трехзначные числа, полученные перестановкой цифр введенного пользователем трехзначного числа."
   ]
  },
  {
   "cell_type": "code",
   "execution_count": 15,
   "metadata": {},
   "outputs": [
    {
     "name": "stdout",
     "output_type": "stream",
     "text": [
      "Введите число: 505\n",
      "505\n",
      "550\n"
     ]
    }
   ],
   "source": [
    "def swap(arr, i, j):\n",
    "    arr[i], arr[j] = arr[j], arr[i]\n",
    "\n",
    "def nextp(arr, n):\n",
    "    j = n - 2\n",
    "    #поиск элемента меньшего чем предыдущий\n",
    "    while j != -1 and arr[j] >= arr[j + 1]: \n",
    "        j -= 1\n",
    "    if j == -1:\n",
    "        return bool(False) #больше перестановок нет\n",
    "    k = n - 1\n",
    "    while arr[j] >= arr[k]:\n",
    "        k -= 1\n",
    "    swap(arr, j, k) #обмен с большим чем j-е\n",
    "    l = j + 1\n",
    "    r = n - 1\n",
    "    while (l < r): #сортировка правой части\n",
    "        swap(arr, l, r) \n",
    "        l += 1\n",
    "        r -= 1\n",
    "    return bool(True)\n",
    "    \n",
    "def out(arr):\n",
    "    string = \"\"\n",
    "    for i in range(len(arr)):\n",
    "        string += str(arr[i])\n",
    "    print(string)\n",
    "    \n",
    "x = input(\"Введите число: \")\n",
    "arr = list(x)\n",
    "while int(arr[0]) == 0:\n",
    "    arr.pop(0)\n",
    "n = len(arr)\n",
    "for i in range(n):\n",
    "    arr[i] = int(arr[i])\n",
    "stop = 0\n",
    "while stop == 0: #начальная сортировка по возрастанию\n",
    "    stop = 1\n",
    "    for i in range(n-1):    \n",
    "        if arr[i] > arr[i+1]:\n",
    "            swap(arr, i, i+1)\n",
    "            stop = 0            \n",
    "\n",
    "if arr[0] != 0:\n",
    "    out(arr)\n",
    "while nextp(arr, n):\n",
    "    if arr[0] != 0:\n",
    "        out(arr)\n",
    "        \n",
    "                \n",
    "    "
   ]
  },
  {
   "cell_type": "code",
   "execution_count": 36,
   "metadata": {},
   "outputs": [
    {
     "name": "stdout",
     "output_type": "stream",
     "text": [
      "Введите число: 100\n",
      "100\n"
     ]
    }
   ],
   "source": [
    "def check(a,b,c,x):\n",
    "    if 100 >= x >= 999:\n",
    "        return bool(False)\n",
    "    elif a == 0:\n",
    "        return bool(False)\n",
    "    else:\n",
    "        return bool(True)\n",
    "\n",
    "def show(a,b,c):\n",
    "    if a != 0:\n",
    "        print(str(a) + str(b) + str(c))\n",
    "    \n",
    "    \n",
    "x = int(input(\"Введите число: \"))\n",
    "a = x // 100\n",
    "b = ( x % 100 ) // 10\n",
    "c = x % 10\n",
    "\n",
    "if not check(a,b,c,x):\n",
    "    print(\"Некорректный ввод\")    \n",
    "else:\n",
    "    if (a == b):\n",
    "        show(a,b,c)\n",
    "        show(a,c,b)\n",
    "        show(c,b,a)\n",
    "    elif (a == c):\n",
    "        show(a,b,c)\n",
    "        show(b,a,c)\n",
    "        show(a,c,b)\n",
    "    elif (c == b):\n",
    "        show(a,b,c)\n",
    "        show(b,a,c)\n",
    "        show(b,c,a)\n",
    "    elif(a == b == c):\n",
    "        show(a,b,c)\n",
    "    else:\n",
    "        show(a,b,c)\n",
    "        show(a,c,b)\n",
    "        show(b,c,a)\n",
    "        show(b,a,c)\n",
    "        show(c,a,b)\n",
    "        show(c,b,a)\n",
    "    \n"
   ]
  },
  {
   "cell_type": "markdown",
   "metadata": {},
   "source": [
    "\tПолучите все трехзначные числа Армстронга. Натуральное число из n цифр называется числом Армстронга, если сумма его цифр, возведенных в n-ю степень, равна самому числу. Например, 1^3  + 5^3  + 3^3  = 153."
   ]
  },
  {
   "cell_type": "code",
   "execution_count": 51,
   "metadata": {},
   "outputs": [
    {
     "name": "stdout",
     "output_type": "stream",
     "text": [
      "153\n",
      "370\n",
      "371\n",
      "407\n"
     ]
    }
   ],
   "source": [
    "for a in range(10):\n",
    "    for b in range(10):\n",
    "        for c in range(10):\n",
    "            summ = pow(a,3)+pow(b,3)+pow(c,3)\n",
    "            number = a*100+b*10+c\n",
    "            if (summ == number and number >= 100 and number <= 999):\n",
    "                print(number)"
   ]
  },
  {
   "cell_type": "code",
   "execution_count": null,
   "metadata": {},
   "outputs": [],
   "source": []
  }
 ],
 "metadata": {
  "kernelspec": {
   "display_name": "Python 3",
   "language": "python",
   "name": "python3"
  },
  "language_info": {
   "codemirror_mode": {
    "name": "ipython",
    "version": 3
   },
   "file_extension": ".py",
   "mimetype": "text/x-python",
   "name": "python",
   "nbconvert_exporter": "python",
   "pygments_lexer": "ipython3",
   "version": "3.6.7"
  }
 },
 "nbformat": 4,
 "nbformat_minor": 2
}
