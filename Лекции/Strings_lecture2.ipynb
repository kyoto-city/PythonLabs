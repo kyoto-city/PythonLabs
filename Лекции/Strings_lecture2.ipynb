{
 "cells": [
  {
   "cell_type": "markdown",
   "metadata": {},
   "source": [
    "# Структуры данных\n",
    "* позволяют хранить и обрабатывать множество однотипных данных\n",
    "* имеют встроенные методы для добавления, поиска, изменения и удаления данных\n",
    "* так как в Python используется *динамическая типизация*, типы данных определяются автоматически во время исполнения, и заранее объявлять их не нужно\n",
    "\n",
    "### Неизменяемые структуры:\n",
    "* строки\n",
    "* кортежи\n",
    "* числа\n",
    "* фиксированные множества (frozenset)\n",
    "\n",
    "### Изменяемые структуры:\n",
    "* списки\n",
    "* словари\n",
    "* множества (set)"
   ]
  },
  {
   "cell_type": "markdown",
   "metadata": {},
   "source": [
    "## Строки в Python"
   ]
  },
  {
   "cell_type": "code",
   "execution_count": 3,
   "metadata": {},
   "outputs": [
    {
     "ename": "TypeError",
     "evalue": "'str' object does not support item assignment",
     "output_type": "error",
     "traceback": [
      "\u001b[1;31m---------------------------------------------------------------------------\u001b[0m",
      "\u001b[1;31mTypeError\u001b[0m                                 Traceback (most recent call last)",
      "\u001b[1;32m<ipython-input-3-b43359953662>\u001b[0m in \u001b[0;36m<module>\u001b[1;34m\u001b[0m\n\u001b[0;32m      1\u001b[0m \u001b[1;31m# неизменяемые\u001b[0m\u001b[1;33m\u001b[0m\u001b[1;33m\u001b[0m\u001b[1;33m\u001b[0m\u001b[0m\n\u001b[0;32m      2\u001b[0m \u001b[0mword\u001b[0m \u001b[1;33m=\u001b[0m \u001b[1;34m'magistratura'\u001b[0m\u001b[1;33m\u001b[0m\u001b[1;33m\u001b[0m\u001b[0m\n\u001b[1;32m----> 3\u001b[1;33m \u001b[0mword\u001b[0m\u001b[1;33m[\u001b[0m\u001b[1;36m0\u001b[0m\u001b[1;33m]\u001b[0m \u001b[1;33m=\u001b[0m \u001b[1;34m'M'\u001b[0m\u001b[1;33m\u001b[0m\u001b[1;33m\u001b[0m\u001b[0m\n\u001b[0m",
      "\u001b[1;31mTypeError\u001b[0m: 'str' object does not support item assignment"
     ]
    }
   ],
   "source": [
    "# неизменяемые\n",
    "word = 'magistratura' \n",
    "word[0] = 'M'"
   ]
  },
  {
   "cell_type": "code",
   "execution_count": 4,
   "metadata": {},
   "outputs": [
    {
     "data": {
      "text/plain": [
       "'mag!stratura'"
      ]
     },
     "execution_count": 4,
     "metadata": {},
     "output_type": "execute_result"
    }
   ],
   "source": [
    "word = 'magistratura'\n",
    "word = word[:3] + '!' + word[4:] \n",
    "word"
   ]
  },
  {
   "cell_type": "code",
   "execution_count": 5,
   "metadata": {},
   "outputs": [
    {
     "data": {
      "text/plain": [
       "'mAgistrAturA'"
      ]
     },
     "execution_count": 5,
     "metadata": {},
     "output_type": "execute_result"
    }
   ],
   "source": [
    "word = 'magistratura'\n",
    "word = word.replace('a','A')\n",
    "word"
   ]
  },
  {
   "cell_type": "code",
   "execution_count": 9,
   "metadata": {},
   "outputs": [
    {
     "data": {
      "text/plain": [
       "'u'"
      ]
     },
     "execution_count": 9,
     "metadata": {},
     "output_type": "execute_result"
    }
   ],
   "source": [
    "word = 'magistratura'\n",
    "word[-3]"
   ]
  },
  {
   "cell_type": "code",
   "execution_count": null,
   "metadata": {},
   "outputs": [],
   "source": []
  },
  {
   "cell_type": "code",
   "execution_count": 10,
   "metadata": {},
   "outputs": [
    {
     "name": "stdout",
     "output_type": "stream",
     "text": [
      "123\n",
      "7'8''9\n",
      "45\"6\"7\n"
     ]
    }
   ],
   "source": [
    "s1 = '123'\n",
    "s2 = \"7'8''9\"\n",
    "s3 = '45\"6\"7'\n",
    "print(s1)\n",
    "print(s2)\n",
    "print(s3)"
   ]
  },
  {
   "cell_type": "code",
   "execution_count": 14,
   "metadata": {},
   "outputs": [
    {
     "data": {
      "text/plain": [
       "'this is the first line and this is the second line'"
      ]
     },
     "execution_count": 14,
     "metadata": {},
     "output_type": "execute_result"
    }
   ],
   "source": [
    "s = 'this is the first line \\\n",
    "and this is the second line'\n",
    "s"
   ]
  },
  {
   "cell_type": "code",
   "execution_count": 15,
   "metadata": {},
   "outputs": [
    {
     "data": {
      "text/plain": [
       "'\\nOne \\nTwo \\nThree \\n'"
      ]
     },
     "execution_count": 15,
     "metadata": {},
     "output_type": "execute_result"
    }
   ],
   "source": [
    "s = '''\n",
    "One \n",
    "Two \n",
    "Three \n",
    "'''\n",
    "s"
   ]
  },
  {
   "cell_type": "code",
   "execution_count": 16,
   "metadata": {},
   "outputs": [
    {
     "data": {
      "text/plain": [
       "'a\\nb\\tc'"
      ]
     },
     "execution_count": 16,
     "metadata": {},
     "output_type": "execute_result"
    }
   ],
   "source": [
    "s ='a\\nb\\tc' \n",
    "s"
   ]
  },
  {
   "cell_type": "code",
   "execution_count": 17,
   "metadata": {},
   "outputs": [
    {
     "name": "stdout",
     "output_type": "stream",
     "text": [
      "7ĵf\n",
      "3\n"
     ]
    }
   ],
   "source": [
    "s = '\\067\\465\\x66' \n",
    "print(s)\n",
    "print(len(s))"
   ]
  },
  {
   "cell_type": "code",
   "execution_count": 18,
   "metadata": {},
   "outputs": [
    {
     "name": "stdout",
     "output_type": "stream",
     "text": [
      "123\n",
      "3\n"
     ]
    }
   ],
   "source": [
    "s = str(123)\n",
    "print(s)\n",
    "print(len(s))"
   ]
  },
  {
   "cell_type": "code",
   "execution_count": 19,
   "metadata": {},
   "outputs": [
    {
     "data": {
      "text/plain": [
       "123"
      ]
     },
     "execution_count": 19,
     "metadata": {},
     "output_type": "execute_result"
    }
   ],
   "source": [
    "s = int('123')\n",
    "s\n"
   ]
  },
  {
   "cell_type": "code",
   "execution_count": 20,
   "metadata": {},
   "outputs": [
    {
     "data": {
      "text/plain": [
       "123.45"
      ]
     },
     "execution_count": 20,
     "metadata": {},
     "output_type": "execute_result"
    }
   ],
   "source": [
    "s = float('123.45')\n",
    "s"
   ]
  },
  {
   "cell_type": "code",
   "execution_count": 21,
   "metadata": {},
   "outputs": [
    {
     "name": "stdout",
     "output_type": "stream",
     "text": [
      "48\n",
      "a\n"
     ]
    }
   ],
   "source": [
    "print(ord('0'))\n",
    "print(chr(97))"
   ]
  },
  {
   "cell_type": "code",
   "execution_count": 22,
   "metadata": {},
   "outputs": [
    {
     "name": "stdout",
     "output_type": "stream",
     "text": [
      "а\n",
      "ш\n"
     ]
    }
   ],
   "source": [
    "s = 'чебурашка'\n",
    "print(min(s))\n",
    "print(max(s))"
   ]
  },
  {
   "cell_type": "markdown",
   "metadata": {},
   "source": [
    "### Срезы\n",
    "\n",
    "механизм гибкого управления строкой на основе индексации"
   ]
  },
  {
   "cell_type": "code",
   "execution_count": 23,
   "metadata": {},
   "outputs": [
    {
     "name": "stdout",
     "output_type": "stream",
     "text": [
      "s\n",
      "mag\n",
      "gis\n",
      "magi\n",
      "tura\n",
      "tu\n"
     ]
    }
   ],
   "source": [
    "word = 'magistratura' \n",
    "print(word[4])\n",
    "print(word[0:3])\n",
    "print(word[2:5]) \n",
    "print(word[:4]) \n",
    "print(word[8:])\n",
    "print(word[8:-2])"
   ]
  },
  {
   "cell_type": "code",
   "execution_count": 24,
   "metadata": {},
   "outputs": [
    {
     "name": "stdout",
     "output_type": "stream",
     "text": [
      "02468\n",
      "3579\n",
      "9876543210\n"
     ]
    }
   ],
   "source": [
    "s = '0123456789' \n",
    "print(s[::2])\n",
    "print(s[3:10:2]) \n",
    "print(s[::-1])"
   ]
  },
  {
   "cell_type": "code",
   "execution_count": 25,
   "metadata": {},
   "outputs": [
    {
     "data": {
      "text/plain": [
       "'Kirov city'"
      ]
     },
     "execution_count": 25,
     "metadata": {},
     "output_type": "execute_result"
    }
   ],
   "source": [
    "s = 'Kirov' + ' city'\n",
    "s"
   ]
  },
  {
   "cell_type": "code",
   "execution_count": 26,
   "metadata": {},
   "outputs": [
    {
     "data": {
      "text/plain": [
       "'123123123'"
      ]
     },
     "execution_count": 26,
     "metadata": {},
     "output_type": "execute_result"
    }
   ],
   "source": [
    "t = '123' * 3\n",
    "t"
   ]
  },
  {
   "cell_type": "markdown",
   "metadata": {},
   "source": [
    "### Форматирование\n",
    "\n",
    "Таблица типов форматирования для строк\n",
    "\n",
    "* s, r Строковый \n",
    "* c Посимвольный \n",
    "* d, u Десятичный \n",
    "* i Целый \n",
    "* o Восьмеричный \n",
    "* x / X Шестнадцатеричный, нижний / верхний регистр\n",
    "* e / E Floating-point exponent\n",
    "* F / F Floating-point decimal \n",
    "* g Floating-point e или f \n",
    "* C Floating-point E или F \n",
    "* % Символьный % "
   ]
  },
  {
   "cell_type": "code",
   "execution_count": 27,
   "metadata": {},
   "outputs": [
    {
     "name": "stdout",
     "output_type": "stream",
     "text": [
      "Hello world\n",
      "one two three\n",
      "one 2 3.500000\n"
     ]
    }
   ],
   "source": [
    "s = 'Hello %s' % 'world' \n",
    "print(s) \n",
    "s = 'one %s %s' % ('two','three') \n",
    "print(s) \n",
    "s = 'one %d %f' % (2 , 3.5) \n",
    "print(s)"
   ]
  },
  {
   "cell_type": "code",
   "execution_count": 28,
   "metadata": {},
   "outputs": [
    {
     "data": {
      "text/plain": [
       "'   1.33333'"
      ]
     },
     "execution_count": 28,
     "metadata": {},
     "output_type": "execute_result"
    }
   ],
   "source": [
    "x = 4/3 \n",
    "'%10.5f' % x \n"
   ]
  },
  {
   "cell_type": "code",
   "execution_count": 29,
   "metadata": {},
   "outputs": [
    {
     "data": {
      "text/plain": [
       "'0003.1415926536'"
      ]
     },
     "execution_count": 29,
     "metadata": {},
     "output_type": "execute_result"
    }
   ],
   "source": [
    "from math import pi \n",
    "'%015.10f' % pi \n"
   ]
  },
  {
   "cell_type": "code",
   "execution_count": 30,
   "metadata": {},
   "outputs": [
    {
     "data": {
      "text/plain": [
       "'1 2 3 4 5'"
      ]
     },
     "execution_count": 30,
     "metadata": {},
     "output_type": "execute_result"
    }
   ],
   "source": [
    "from string import Template \n",
    "s = Template('1 $two 3 4 $five')\n",
    "d={} \n",
    "d['two']=2 \n",
    "d['five']=5\n",
    "s.substitute(d)"
   ]
  },
  {
   "cell_type": "code",
   "execution_count": 33,
   "metadata": {},
   "outputs": [
    {
     "name": "stdout",
     "output_type": "stream",
     "text": [
      "Out {a} and out {b}\n",
      "Out 1 and out 2\n"
     ]
    }
   ],
   "source": [
    "a = 1\n",
    "b = 2\n",
    "print(\"Out {a} and out {b}\")\n",
    "print(f\"Out {a} and out {b}\")"
   ]
  },
  {
   "cell_type": "markdown",
   "metadata": {},
   "source": [
    "### Методы\n",
    "\n",
    "* S.capitalize() \n",
    "* S.center(width [, fill]) \n",
    "* S.count(sub [, start [, end]]) \n",
    "* S.encode([encoding [,errors]]) \n",
    "* S.endswith(suffix [, start [, end]]) \n",
    "* S.expandtabs([tabsize]) \n",
    "* S.find(sub [, start [, end]]) \n",
    "* S.format(fmtstr, *args, **kwargs) \n",
    "* S.index(sub [, start [, end]]) \n",
    "* S.isspace() \n",
    "* S.istitle() \n",
    "* S.isupper() \n",
    "* S.join(iterable) \n",
    "* S.ljust(width [, fill]) \n",
    "* S.lower() \n",
    "* S.lstrip([chars]) \n",
    "* S.maketrans(x[, y[, z]]) \n",
    "* S.partition(sep) \n",
    "* S.replace(old, new [, count])\n",
    "* S.rfind(sub [,start [,end]]) \n",
    "* S.rindex(sub [, start [, end]]) \n",
    "* S.rjust(width [, fill]) \n",
    "* S.rpartition(sep) \n",
    "* S.rsplit([sep[, maxsplit]]) \n",
    "* S.rstrip([chars]) \n",
    "* S.split([sep [,maxsplit]]) \n",
    "* S.splitlines([keepends]) \n",
    "* S.startswith(prefix [, start [, end]]) \n",
    "* S.strip([chars]) \n",
    "* S.swapcase() \n",
    "* S.title() \n",
    "* S.translate(map) \n",
    "* S.upper() \n",
    "* S.zfill(width)"
   ]
  },
  {
   "cell_type": "code",
   "execution_count": 34,
   "metadata": {},
   "outputs": [
    {
     "name": "stdout",
     "output_type": "stream",
     "text": [
      "6\n",
      "8\n",
      "1\n",
      "-1\n"
     ]
    }
   ],
   "source": [
    "s = 'Abrakadabra' \n",
    "print(s.find('da'))\n",
    "print(s.rfind('bra'))\n",
    "print(s.find('bra')) \n",
    "print(s.find('bred'))"
   ]
  },
  {
   "cell_type": "code",
   "execution_count": 35,
   "metadata": {},
   "outputs": [
    {
     "name": "stdout",
     "output_type": "stream",
     "text": [
      "6\n",
      "1\n",
      "8\n"
     ]
    },
    {
     "ename": "ValueError",
     "evalue": "substring not found",
     "output_type": "error",
     "traceback": [
      "\u001b[1;31m---------------------------------------------------------------------------\u001b[0m",
      "\u001b[1;31mValueError\u001b[0m                                Traceback (most recent call last)",
      "\u001b[1;32m<ipython-input-35-88c3481293cf>\u001b[0m in \u001b[0;36m<module>\u001b[1;34m\u001b[0m\n\u001b[0;32m      3\u001b[0m \u001b[0mprint\u001b[0m\u001b[1;33m(\u001b[0m\u001b[0ms\u001b[0m\u001b[1;33m.\u001b[0m\u001b[0mindex\u001b[0m\u001b[1;33m(\u001b[0m\u001b[1;34m'bra'\u001b[0m\u001b[1;33m)\u001b[0m\u001b[1;33m)\u001b[0m\u001b[1;33m\u001b[0m\u001b[1;33m\u001b[0m\u001b[0m\n\u001b[0;32m      4\u001b[0m \u001b[0mprint\u001b[0m\u001b[1;33m(\u001b[0m\u001b[0ms\u001b[0m\u001b[1;33m.\u001b[0m\u001b[0mrindex\u001b[0m\u001b[1;33m(\u001b[0m\u001b[1;34m'bra'\u001b[0m\u001b[1;33m)\u001b[0m\u001b[1;33m)\u001b[0m\u001b[1;33m\u001b[0m\u001b[1;33m\u001b[0m\u001b[0m\n\u001b[1;32m----> 5\u001b[1;33m \u001b[0mprint\u001b[0m\u001b[1;33m(\u001b[0m\u001b[0ms\u001b[0m\u001b[1;33m.\u001b[0m\u001b[0mindex\u001b[0m\u001b[1;33m(\u001b[0m\u001b[1;34m'bred'\u001b[0m\u001b[1;33m)\u001b[0m\u001b[1;33m)\u001b[0m\u001b[1;33m\u001b[0m\u001b[1;33m\u001b[0m\u001b[0m\n\u001b[0m",
      "\u001b[1;31mValueError\u001b[0m: substring not found"
     ]
    }
   ],
   "source": [
    "s = 'Abrakadabra' \n",
    "print(s.index('da'))\n",
    "print(s.index('bra'))\n",
    "print(s.rindex('bra')) \n",
    "print(s.index('bred'))"
   ]
  },
  {
   "cell_type": "code",
   "execution_count": 38,
   "metadata": {},
   "outputs": [
    {
     "name": "stdout",
     "output_type": "stream",
     "text": [
      "one***two***three\n"
     ]
    }
   ],
   "source": [
    "seq = ['one','two','three'] \n",
    "sep = '***' \n",
    "print(sep.join(seq))"
   ]
  },
  {
   "cell_type": "code",
   "execution_count": 40,
   "metadata": {},
   "outputs": [
    {
     "name": "stdout",
     "output_type": "stream",
     "text": [
      "['', 'usr', 'local', '', 'bin']\n"
     ]
    }
   ],
   "source": [
    "s = '/usr/local//bin' \n",
    "print(s.split('/') )"
   ]
  },
  {
   "cell_type": "code",
   "execution_count": 43,
   "metadata": {},
   "outputs": [
    {
     "name": "stdout",
     "output_type": "stream",
     "text": [
      "Hello, Alexandr! Glad to see you, Alexandr!\n",
      "Hello, Alexandr! Glad to see you, Masha!\n"
     ]
    }
   ],
   "source": [
    "s = 'Hello, Masha! Glad to see you, Masha!' \n",
    "print(s.replace('Masha','Alexandr'))\n",
    "print(s.replace('Masha','Alexandr', 1))"
   ]
  },
  {
   "cell_type": "code",
   "execution_count": 44,
   "metadata": {},
   "outputs": [
    {
     "data": {
      "text/plain": [
       "'   Zoom−Zoom   '"
      ]
     },
     "execution_count": 44,
     "metadata": {},
     "output_type": "execute_result"
    }
   ],
   "source": [
    "s = 'Zoom−Zoom'\n",
    "s.center(15)"
   ]
  },
  {
   "cell_type": "code",
   "execution_count": 45,
   "metadata": {},
   "outputs": [
    {
     "name": "stdout",
     "output_type": "stream",
     "text": [
      "Zoom−Zoom++++++\n",
      "      Zoom−Zoom\n"
     ]
    }
   ],
   "source": [
    "s = 'Zoom−Zoom'\n",
    "print(s.ljust(15,'+'))\n",
    "print(s.rjust(15))"
   ]
  },
  {
   "cell_type": "code",
   "execution_count": 46,
   "metadata": {},
   "outputs": [
    {
     "data": {
      "text/plain": [
       "True"
      ]
     },
     "execution_count": 46,
     "metadata": {},
     "output_type": "execute_result"
    }
   ],
   "source": [
    "s = '123'\n",
    "s.isdigit()"
   ]
  },
  {
   "cell_type": "code",
   "execution_count": 47,
   "metadata": {},
   "outputs": [
    {
     "name": "stdout",
     "output_type": "stream",
     "text": [
      "2\n",
      "1\n",
      "0\n"
     ]
    }
   ],
   "source": [
    "s = 'abrakadabra'\n",
    "print(s.count('ab'))\n",
    "print(s.count('ab',1))\n",
    "print(s.count('ab', 1, -3))\n",
    "#print(s[1:-3])\n"
   ]
  },
  {
   "cell_type": "code",
   "execution_count": null,
   "metadata": {},
   "outputs": [],
   "source": [
    "s = 'abrakadabra'\n",
    "print(s.ﬁnd('br'))\n",
    "print(s.rﬁnd('br'))"
   ]
  },
  {
   "cell_type": "code",
   "execution_count": 48,
   "metadata": {},
   "outputs": [
    {
     "name": "stdout",
     "output_type": "stream",
     "text": [
      "('H', 'e', 'llo everybody')\n",
      "('Hello ev', 'e', 'rybody')\n"
     ]
    }
   ],
   "source": [
    "s = 'Hello everybody'\n",
    "print(s.partition('e'))\n",
    "print(s.rpartition('e'))\n"
   ]
  },
  {
   "cell_type": "code",
   "execution_count": 49,
   "metadata": {},
   "outputs": [
    {
     "name": "stdout",
     "output_type": "stream",
     "text": [
      "!breKeKeKeKs!\n",
      "!breKeKeKeKs  !\n",
      "!  breKeKeKeKs!\n",
      "! breKeKeKeKs !\n",
      "! breKeKeKeKs   !\n",
      "!   breKeKeKeKs !\n"
     ]
    }
   ],
   "source": [
    "s = '  breKeKeKeKs  '\n",
    "print('!' + s.strip() + '!')\n",
    "print('!' + s.lstrip() + '!')\n",
    "print('!' + s.rstrip() + '!')\n",
    "print('!', s.strip(), '!')\n",
    "print('!', s.lstrip(), '!')\n",
    "print('!', s.rstrip(), '!')"
   ]
  },
  {
   "cell_type": "code",
   "execution_count": 50,
   "metadata": {},
   "outputs": [
    {
     "name": "stdout",
     "output_type": "stream",
     "text": [
      "Everything is abrakadabra\n",
      "Everything Is Abrakadabra\n"
     ]
    }
   ],
   "source": [
    "s = 'everything is abrakadabra'\n",
    "print(s.capitalize())\n",
    "print(s.title())"
   ]
  },
  {
   "cell_type": "code",
   "execution_count": 51,
   "metadata": {},
   "outputs": [
    {
     "data": {
      "text/plain": [
       "'000000000123'"
      ]
     },
     "execution_count": 51,
     "metadata": {},
     "output_type": "execute_result"
    }
   ],
   "source": [
    "s = '123'\n",
    "s.zfill(12)"
   ]
  },
  {
   "cell_type": "code",
   "execution_count": 52,
   "metadata": {},
   "outputs": [
    {
     "name": "stdout",
     "output_type": "stream",
     "text": [
      "zOOM−zOOM\n",
      "ZOOM−ZOOM\n",
      "zoom−zoom\n"
     ]
    }
   ],
   "source": [
    "s = 'Zoom−Zoom'\n",
    "print(s.swapcase())\n",
    "print(s.upper())\n",
    "print(s.lower())"
   ]
  },
  {
   "cell_type": "code",
   "execution_count": null,
   "metadata": {},
   "outputs": [],
   "source": []
  }
 ],
 "metadata": {
  "kernelspec": {
   "display_name": "Python 3",
   "language": "python",
   "name": "python3"
  },
  "language_info": {
   "codemirror_mode": {
    "name": "ipython",
    "version": 3
   },
   "file_extension": ".py",
   "mimetype": "text/x-python",
   "name": "python",
   "nbconvert_exporter": "python",
   "pygments_lexer": "ipython3",
   "version": "3.6.5"
  }
 },
 "nbformat": 4,
 "nbformat_minor": 2
}
