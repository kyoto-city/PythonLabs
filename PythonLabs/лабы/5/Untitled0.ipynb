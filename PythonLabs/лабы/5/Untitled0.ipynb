{
  "nbformat": 4,
  "nbformat_minor": 0,
  "metadata": {
    "colab": {
      "name": "Untitled0.ipynb",
      "provenance": [],
      "authorship_tag": "ABX9TyPA1GfZJXjesCLC/5NIFPPG"
    },
    "kernelspec": {
      "name": "python3",
      "display_name": "Python 3"
    }
  },
  "cells": [
    {
      "cell_type": "markdown",
      "metadata": {
        "id": "RpkmEhNsiMqU"
      },
      "source": [
        "123"
      ]
    },
    {
      "cell_type": "code",
      "metadata": {
        "id": "r9nVxl8xiNvd"
      },
      "source": [
        ""
      ],
      "execution_count": null,
      "outputs": []
    }
  ]
}